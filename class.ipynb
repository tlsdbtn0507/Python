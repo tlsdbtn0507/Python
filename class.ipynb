{
 "cells": [
  {
   "cell_type": "code",
   "execution_count": 4,
   "id": "7ba921ec",
   "metadata": {},
   "outputs": [
    {
     "name": "stdout",
     "output_type": "stream",
     "text": [
      "1\n",
      "2\n",
      "rho\n"
     ]
    }
   ],
   "source": [
    "class Dog:\n",
    "    dog_count = 0\n",
    "    def __init__ (self,name,owner):\n",
    "        self.name = name\n",
    "        self.__owner = owner\n",
    "        Dog.dog_count += 1\n",
    "    \n",
    "    def hi(self):\n",
    "        print(Dog.dog_count)\n",
    "        \n",
    "    def col(self):\n",
    "        print(self.__owner)\n",
    "\n",
    "cho = Dog('cho','jung')\n",
    "cho.hi()\n",
    "\n",
    "co = Dog('co','rho')\n",
    "co.hi()\n",
    "co.col()"
   ]
  },
  {
   "cell_type": "code",
   "execution_count": 12,
   "id": "090d9729",
   "metadata": {},
   "outputs": [],
   "source": [
    "class Car:\n",
    "    def __init__(self):\n",
    "        self.speed = 0\n",
    "    def acclerate(self):\n",
    "        self.speed += 10\n",
    "    def breaking(self):\n",
    "        self.speed -= 10\n",
    "\n",
    "        \n",
    "class Porcshe(Car):\n",
    "    def __init__(self,model):\n",
    "        super().__init__()\n",
    "        self.model = model\n",
    "    def printing(self):\n",
    "        print(self.model)\n",
    "\n",
    "class Mercedes(Car):\n",
    "    def __init__(self,model):\n",
    "        super().__init__()\n",
    "        self.model = model\n",
    "    def luxury(self):\n",
    "        print(self.model)\n",
    "        \n",
    "    def acclerate(self):\n",
    "        super().acclerate()\n",
    "        print(self.speed)"
   ]
  },
  {
   "cell_type": "code",
   "execution_count": null,
   "id": "1412765f",
   "metadata": {},
   "outputs": [],
   "source": []
  },
  {
   "cell_type": "code",
   "execution_count": 13,
   "id": "68f2a742",
   "metadata": {},
   "outputs": [
    {
     "name": "stdout",
     "output_type": "stream",
     "text": [
      "911\n",
      "sclass\n",
      "10\n",
      "10\n"
     ]
    }
   ],
   "source": [
    "por = Porcshe(911)\n",
    "sclass = Mercedes('sclass')\n",
    "\n",
    "por.printing()\n",
    "\n",
    "sclass.luxury()\n",
    "\n",
    "por.acclerate()\n",
    "\n",
    "sclass.acclerate()\n",
    "\n",
    "\n",
    "print(por.speed)"
   ]
  },
  {
   "cell_type": "code",
   "execution_count": null,
   "id": "5dbbfc1a",
   "metadata": {},
   "outputs": [],
   "source": []
  },
  {
   "cell_type": "code",
   "execution_count": null,
   "id": "0c69979e",
   "metadata": {},
   "outputs": [],
   "source": []
  },
  {
   "cell_type": "code",
   "execution_count": null,
   "id": "c0db0ea4",
   "metadata": {},
   "outputs": [],
   "source": []
  },
  {
   "cell_type": "code",
   "execution_count": null,
   "id": "3f309f85",
   "metadata": {},
   "outputs": [],
   "source": []
  },
  {
   "cell_type": "code",
   "execution_count": null,
   "id": "67e7c317",
   "metadata": {},
   "outputs": [],
   "source": []
  },
  {
   "cell_type": "code",
   "execution_count": null,
   "id": "c1c2fd3f",
   "metadata": {},
   "outputs": [],
   "source": []
  },
  {
   "cell_type": "code",
   "execution_count": null,
   "id": "6aa113f4",
   "metadata": {},
   "outputs": [],
   "source": []
  },
  {
   "cell_type": "code",
   "execution_count": null,
   "id": "51a79a9b",
   "metadata": {},
   "outputs": [],
   "source": []
  },
  {
   "cell_type": "code",
   "execution_count": null,
   "id": "a53465c1",
   "metadata": {},
   "outputs": [],
   "source": []
  },
  {
   "cell_type": "code",
   "execution_count": null,
   "id": "64e951e0",
   "metadata": {},
   "outputs": [],
   "source": []
  }
 ],
 "metadata": {
  "kernelspec": {
   "display_name": "Python 3 (ipykernel)",
   "language": "python",
   "name": "python3"
  },
  "language_info": {
   "codemirror_mode": {
    "name": "ipython",
    "version": 3
   },
   "file_extension": ".py",
   "mimetype": "text/x-python",
   "name": "python",
   "nbconvert_exporter": "python",
   "pygments_lexer": "ipython3",
   "version": "3.10.9"
  }
 },
 "nbformat": 4,
 "nbformat_minor": 5
}
