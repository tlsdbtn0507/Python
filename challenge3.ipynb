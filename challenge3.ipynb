{
 "cells": [
  {
   "cell_type": "code",
   "execution_count": 24,
   "id": "8528eca0",
   "metadata": {},
   "outputs": [],
   "source": [
    "class Car():\n",
    "    car_count = 0\n",
    "    \n",
    "    def __init__(self,name,cc,year):\n",
    "        self.__name = name\n",
    "        self.__cc = cc\n",
    "        self.__year = year\n",
    "        Car.car_count += 1\n",
    "        \n",
    "    def checkCC(self):\n",
    "        if(int(self.__cc) > 2000):\n",
    "            print('big')\n",
    "        elif (1000 < int(self.__cc) <= 2000):\n",
    "            print('middle')\n",
    "        else:\n",
    "            print('small')\n",
    "    def check(self):\n",
    "        print(self.__name)\n",
    "    def change(self,name):\n",
    "        self.__name = name"
   ]
  },
  {
   "cell_type": "code",
   "execution_count": null,
   "id": "36376ed7",
   "metadata": {},
   "outputs": [],
   "source": []
  },
  {
   "cell_type": "code",
   "execution_count": null,
   "id": "e1824b22",
   "metadata": {},
   "outputs": [],
   "source": []
  },
  {
   "cell_type": "code",
   "execution_count": null,
   "id": "2b9c457d",
   "metadata": {},
   "outputs": [],
   "source": []
  },
  {
   "cell_type": "code",
   "execution_count": null,
   "id": "c9d11c45",
   "metadata": {},
   "outputs": [],
   "source": []
  },
  {
   "cell_type": "code",
   "execution_count": 25,
   "id": "2d93a2c8",
   "metadata": {},
   "outputs": [],
   "source": [
    "sonata = Car('sonata',1800,2023)\n",
    "grendure = Car('grendure',2100,2023)\n",
    "morning = Car('morning',1000,2010)"
   ]
  },
  {
   "cell_type": "code",
   "execution_count": null,
   "id": "6fb18120",
   "metadata": {},
   "outputs": [],
   "source": []
  },
  {
   "cell_type": "code",
   "execution_count": null,
   "id": "a2045aa5",
   "metadata": {},
   "outputs": [],
   "source": []
  },
  {
   "cell_type": "code",
   "execution_count": null,
   "id": "9529b304",
   "metadata": {},
   "outputs": [],
   "source": []
  },
  {
   "cell_type": "code",
   "execution_count": null,
   "id": "c9ae23f9",
   "metadata": {},
   "outputs": [],
   "source": []
  },
  {
   "cell_type": "code",
   "execution_count": null,
   "id": "a20d7168",
   "metadata": {},
   "outputs": [],
   "source": []
  },
  {
   "cell_type": "code",
   "execution_count": null,
   "id": "f0594813",
   "metadata": {},
   "outputs": [],
   "source": []
  },
  {
   "cell_type": "code",
   "execution_count": 26,
   "id": "07963f4b",
   "metadata": {},
   "outputs": [
    {
     "name": "stdout",
     "output_type": "stream",
     "text": [
      "middle\n",
      "sonata\n",
      "ssonata\n",
      "big\n",
      "small\n",
      "3\n"
     ]
    }
   ],
   "source": [
    "sonata.checkCC()\n",
    "sonata.check()\n",
    "sonata.change('ssonata')\n",
    "sonata.check()\n",
    "\n",
    "grendure.checkCC()\n",
    "morning.checkCC()\n",
    "\n",
    "print(Car.car_count)\n"
   ]
  },
  {
   "cell_type": "code",
   "execution_count": 2,
   "id": "daeeb59d",
   "metadata": {},
   "outputs": [],
   "source": [
    "class Char():\n",
    "    def __init__(self):\n",
    "        self.health = 200\n",
    "    \n",
    "    def move(self):\n",
    "        self.health -= 10\n",
    "        \n",
    "    def rest(self):\n",
    "        self.health += 10\n",
    "        \n",
    "    def checkH(self):\n",
    "        print(self.health)"
   ]
  },
  {
   "cell_type": "code",
   "execution_count": null,
   "id": "09406318",
   "metadata": {},
   "outputs": [],
   "source": []
  },
  {
   "cell_type": "code",
   "execution_count": 3,
   "id": "21706406",
   "metadata": {},
   "outputs": [],
   "source": [
    "class Knight(Char):\n",
    "    def __init__(self):\n",
    "        super().__init__()\n",
    "        \n",
    "    def move(self):\n",
    "        super().move()\n",
    "        self.health -= 5\n",
    "        \n",
    "    def attack(self):\n",
    "        print('attack')\n",
    "        \n",
    "class Healer(Char):\n",
    "    def __init__(self):\n",
    "        super().__init__()\n",
    "        self.mana = 100\n",
    "        \n",
    "    def heal(self,char):\n",
    "        self.mana -= 10\n",
    "        char.rest()\n",
    "        \n",
    "    def checkMana(self):\n",
    "        print(self.mana)"
   ]
  },
  {
   "cell_type": "code",
   "execution_count": null,
   "id": "c13d7ba8",
   "metadata": {},
   "outputs": [],
   "source": []
  },
  {
   "cell_type": "code",
   "execution_count": null,
   "id": "f6f97bd6",
   "metadata": {},
   "outputs": [],
   "source": []
  },
  {
   "cell_type": "code",
   "execution_count": null,
   "id": "b46f0ef6",
   "metadata": {},
   "outputs": [],
   "source": []
  },
  {
   "cell_type": "code",
   "execution_count": null,
   "id": "e16d1f03",
   "metadata": {},
   "outputs": [],
   "source": []
  },
  {
   "cell_type": "code",
   "execution_count": null,
   "id": "60a0f22a",
   "metadata": {},
   "outputs": [],
   "source": []
  },
  {
   "cell_type": "code",
   "execution_count": null,
   "id": "2440ddd5",
   "metadata": {},
   "outputs": [],
   "source": []
  },
  {
   "cell_type": "code",
   "execution_count": null,
   "id": "9d13f3c4",
   "metadata": {},
   "outputs": [],
   "source": []
  },
  {
   "cell_type": "code",
   "execution_count": 5,
   "id": "53d6fa74",
   "metadata": {},
   "outputs": [
    {
     "name": "stdout",
     "output_type": "stream",
     "text": [
      "attack\n",
      "195\n",
      "200\n"
     ]
    }
   ],
   "source": [
    "k = Knight()\n",
    "h = Healer()\n",
    "\n",
    "k.move()\n",
    "h.move()\n",
    "\n",
    "k.rest()\n",
    "h.rest()\n",
    "\n",
    "k.attack()\n",
    "\n",
    "k.checkH()\n",
    "h.checkH()\n",
    "\n"
   ]
  },
  {
   "cell_type": "code",
   "execution_count": null,
   "id": "daa76a62",
   "metadata": {},
   "outputs": [],
   "source": []
  },
  {
   "cell_type": "code",
   "execution_count": null,
   "id": "daa30c5f",
   "metadata": {},
   "outputs": [],
   "source": []
  },
  {
   "cell_type": "code",
   "execution_count": null,
   "id": "4844b2cb",
   "metadata": {},
   "outputs": [],
   "source": []
  },
  {
   "cell_type": "code",
   "execution_count": 6,
   "id": "fef03ef2",
   "metadata": {},
   "outputs": [
    {
     "name": "stdout",
     "output_type": "stream",
     "text": [
      "<__main__.Knight object at 0x1043ea320>\n",
      "90\n",
      "205\n"
     ]
    }
   ],
   "source": [
    "\n",
    "h.heal(k)\n",
    "\n",
    "h.checkMana()\n",
    "k.checkH()"
   ]
  },
  {
   "cell_type": "code",
   "execution_count": null,
   "id": "87a9b66e",
   "metadata": {},
   "outputs": [],
   "source": []
  },
  {
   "cell_type": "code",
   "execution_count": null,
   "id": "a3927871",
   "metadata": {},
   "outputs": [],
   "source": []
  },
  {
   "cell_type": "code",
   "execution_count": null,
   "id": "307c1e3f",
   "metadata": {},
   "outputs": [],
   "source": []
  },
  {
   "cell_type": "code",
   "execution_count": null,
   "id": "5529a807",
   "metadata": {},
   "outputs": [],
   "source": []
  },
  {
   "cell_type": "code",
   "execution_count": null,
   "id": "2fdeef75",
   "metadata": {},
   "outputs": [],
   "source": []
  },
  {
   "cell_type": "code",
   "execution_count": null,
   "id": "8d222a57",
   "metadata": {},
   "outputs": [],
   "source": []
  },
  {
   "cell_type": "code",
   "execution_count": null,
   "id": "a59e0d29",
   "metadata": {},
   "outputs": [],
   "source": []
  },
  {
   "cell_type": "code",
   "execution_count": null,
   "id": "d3cae36d",
   "metadata": {},
   "outputs": [],
   "source": []
  },
  {
   "cell_type": "code",
   "execution_count": null,
   "id": "696c2738",
   "metadata": {},
   "outputs": [],
   "source": []
  },
  {
   "cell_type": "code",
   "execution_count": null,
   "id": "8cc412ec",
   "metadata": {},
   "outputs": [],
   "source": []
  },
  {
   "cell_type": "code",
   "execution_count": null,
   "id": "a4dfb7e6",
   "metadata": {},
   "outputs": [],
   "source": []
  },
  {
   "cell_type": "code",
   "execution_count": null,
   "id": "c98b76ec",
   "metadata": {},
   "outputs": [],
   "source": []
  },
  {
   "cell_type": "code",
   "execution_count": null,
   "id": "c5065e71",
   "metadata": {},
   "outputs": [],
   "source": []
  },
  {
   "cell_type": "code",
   "execution_count": null,
   "id": "26ff6629",
   "metadata": {},
   "outputs": [],
   "source": []
  },
  {
   "cell_type": "code",
   "execution_count": null,
   "id": "a322640e",
   "metadata": {},
   "outputs": [],
   "source": []
  },
  {
   "cell_type": "code",
   "execution_count": null,
   "id": "053fc583",
   "metadata": {},
   "outputs": [],
   "source": []
  },
  {
   "cell_type": "code",
   "execution_count": null,
   "id": "7aa349de",
   "metadata": {},
   "outputs": [],
   "source": []
  },
  {
   "cell_type": "code",
   "execution_count": null,
   "id": "182e78ec",
   "metadata": {},
   "outputs": [],
   "source": []
  },
  {
   "cell_type": "code",
   "execution_count": null,
   "id": "958fbce9",
   "metadata": {},
   "outputs": [],
   "source": []
  },
  {
   "cell_type": "code",
   "execution_count": null,
   "id": "b54cacb5",
   "metadata": {},
   "outputs": [],
   "source": []
  },
  {
   "cell_type": "code",
   "execution_count": null,
   "id": "a5413bf4",
   "metadata": {},
   "outputs": [],
   "source": []
  },
  {
   "cell_type": "code",
   "execution_count": null,
   "id": "502a224f",
   "metadata": {},
   "outputs": [],
   "source": []
  }
 ],
 "metadata": {
  "kernelspec": {
   "display_name": "Python 3 (ipykernel)",
   "language": "python",
   "name": "python3"
  },
  "language_info": {
   "codemirror_mode": {
    "name": "ipython",
    "version": 3
   },
   "file_extension": ".py",
   "mimetype": "text/x-python",
   "name": "python",
   "nbconvert_exporter": "python",
   "pygments_lexer": "ipython3",
   "version": "3.10.9"
  }
 },
 "nbformat": 4,
 "nbformat_minor": 5
}
