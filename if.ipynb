{
 "cells": [
  {
   "cell_type": "code",
   "execution_count": 5,
   "id": "a54e4f80",
   "metadata": {},
   "outputs": [
    {
     "name": "stdout",
     "output_type": "stream",
     "text": [
      "10\n"
     ]
    }
   ],
   "source": [
    "x = 10\n",
    "if x == 10 :\n",
    "    print(x)\n",
    "else:\n",
    "    print(\"x is not 10, x is\",x)"
   ]
  },
  {
   "cell_type": "code",
   "execution_count": 6,
   "id": "5a7a580f",
   "metadata": {},
   "outputs": [
    {
     "name": "stdout",
     "output_type": "stream",
     "text": [
      "eungdi\n"
     ]
    }
   ],
   "source": [
    "x = 10\n",
    "if x == 10 :\n",
    "    pass\n",
    "print('eungdi')"
   ]
  },
  {
   "cell_type": "code",
   "execution_count": 8,
   "id": "130b6df5",
   "metadata": {},
   "outputs": [
    {
     "name": "stdout",
     "output_type": "stream",
     "text": [
      "x is 10\n"
     ]
    }
   ],
   "source": [
    "x = 10\n",
    "if x == 10 :\n",
    "    print('x is 10')\n",
    "elif x > 10:\n",
    "    print(\"x is not 10, x is\",x)\n",
    "elif x<10:\n",
    "    print(\"x is not 10, x is\",x)\n",
    "else:\n",
    "    print('eungdi')"
   ]
  },
  {
   "cell_type": "code",
   "execution_count": null,
   "id": "1d31a394",
   "metadata": {},
   "outputs": [],
   "source": []
  },
  {
   "cell_type": "code",
   "execution_count": null,
   "id": "54bf789a",
   "metadata": {},
   "outputs": [],
   "source": []
  },
  {
   "cell_type": "code",
   "execution_count": null,
   "id": "002b64bf",
   "metadata": {},
   "outputs": [],
   "source": []
  },
  {
   "cell_type": "code",
   "execution_count": null,
   "id": "d5a3c784",
   "metadata": {},
   "outputs": [],
   "source": []
  },
  {
   "cell_type": "code",
   "execution_count": null,
   "id": "eb50a532",
   "metadata": {},
   "outputs": [],
   "source": []
  }
 ],
 "metadata": {
  "kernelspec": {
   "display_name": "Python 3 (ipykernel)",
   "language": "python",
   "name": "python3"
  },
  "language_info": {
   "codemirror_mode": {
    "name": "ipython",
    "version": 3
   },
   "file_extension": ".py",
   "mimetype": "text/x-python",
   "name": "python",
   "nbconvert_exporter": "python",
   "pygments_lexer": "ipython3",
   "version": "3.10.9"
  }
 },
 "nbformat": 4,
 "nbformat_minor": 5
}
